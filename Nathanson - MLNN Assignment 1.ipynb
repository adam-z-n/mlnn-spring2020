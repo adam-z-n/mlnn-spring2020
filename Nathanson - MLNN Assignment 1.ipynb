{
 "cells": [
  {
   "cell_type": "markdown",
   "metadata": {},
   "source": [
    "# MLNN Week 1 - Assignment\n",
    "\n",
    "Adam Nathanson\n",
    "anatha11@jhu.edu\n",
    "27 January 2020"
   ]
  },
  {
   "cell_type": "code",
   "execution_count": 1,
   "metadata": {},
   "outputs": [
    {
     "name": "stdout",
     "output_type": "stream",
     "text": [
      "I have some experience in R, but am new to Python.\n"
     ]
    }
   ],
   "source": [
    "print(\"I have some experience in R, but am new to Python.\")"
   ]
  },
  {
   "cell_type": "code",
   "execution_count": 2,
   "metadata": {},
   "outputs": [],
   "source": [
    "x = 5\n",
    "y = 20"
   ]
  },
  {
   "cell_type": "code",
   "execution_count": 3,
   "metadata": {},
   "outputs": [
    {
     "data": {
      "text/plain": [
       "25"
      ]
     },
     "execution_count": 3,
     "metadata": {},
     "output_type": "execute_result"
    }
   ],
   "source": [
    "x + y"
   ]
  },
  {
   "cell_type": "code",
   "execution_count": 6,
   "metadata": {},
   "outputs": [],
   "source": [
    "madlibs = ['tacos','parakeets','tanks','data']"
   ]
  },
  {
   "cell_type": "code",
   "execution_count": 7,
   "metadata": {},
   "outputs": [
    {
     "name": "stdout",
     "output_type": "stream",
     "text": [
      "So long, and thanks for all the tacos!\n",
      "So long, and thanks for all the parakeets!\n",
      "So long, and thanks for all the tanks!\n",
      "So long, and thanks for all the data!\n"
     ]
    }
   ],
   "source": [
    "for i, name in enumerate(madlibs):\n",
    "    print (\"So long, and thanks for all the {name}!\".format(iteration=i, name=name))"
   ]
  },
  {
   "cell_type": "code",
   "execution_count": 12,
   "metadata": {},
   "outputs": [],
   "source": [
    "def bday(name, year):\n",
    "    print ('Happy Birthday,',name,'! You are', year*365, 'days old today!')"
   ]
  },
  {
   "cell_type": "code",
   "execution_count": 13,
   "metadata": {},
   "outputs": [
    {
     "name": "stdout",
     "output_type": "stream",
     "text": [
      "Happy Birthday, Arthur ! You are 14235 days old today!\n"
     ]
    }
   ],
   "source": [
    "bday('Arthur',39)"
   ]
  }
 ],
 "metadata": {
  "kernelspec": {
   "display_name": "Python 3",
   "language": "python",
   "name": "python3"
  },
  "language_info": {
   "codemirror_mode": {
    "name": "ipython",
    "version": 3
   },
   "file_extension": ".py",
   "mimetype": "text/x-python",
   "name": "python",
   "nbconvert_exporter": "python",
   "pygments_lexer": "ipython3",
   "version": "3.7.4"
  }
 },
 "nbformat": 4,
 "nbformat_minor": 2
}
